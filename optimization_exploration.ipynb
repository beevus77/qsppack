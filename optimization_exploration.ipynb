{
 "cells": [
  {
   "cell_type": "code",
   "execution_count": 2,
   "id": "21c75ef2",
   "metadata": {},
   "outputs": [],
   "source": [
    "import torch\n",
    "device = torch.device(\"cuda\" if torch.cuda.is_available() else \"cpu\")\n",
    "from torch.nn.functional import conv1d, pad\n",
    "from torch.fft import fft\n",
    "from torchaudio.transforms import FFTConvolve\n",
    "import time\n",
    "from matplotlib import pyplot as plt\n",
    "import numpy as np\n",
    "from scipy.signal import fftconvolve"
   ]
  },
  {
   "cell_type": "code",
   "execution_count": 36,
   "id": "2217c5c8",
   "metadata": {},
   "outputs": [
    {
     "name": "stdout",
     "output_type": "stream",
     "text": [
      "N: 32\n",
      "Time: 0.2842400074005127\n",
      "Final: 5.154334736801047e-10\n",
      "# Iterations: 52\n",
      "-----------------------------------------------------\n"
     ]
    }
   ],
   "source": [
    "def objective_torch(a, b):\n",
    "    \"\"\"\n",
    "    Computes the loss for the optimization problem.\n",
    "\n",
    "    This function calculates the loss as the squared norm of the difference\n",
    "    between the sum of convolutions of two polynomials (a and b) with their\n",
    "    flipped versions and a delta function centered at the middle index.\n",
    "\n",
    "    Parameters\n",
    "    ----------\n",
    "    a : torch.Tensor\n",
    "        Coefficient of the first polynomial.\n",
    "    b : torch.Tensor\n",
    "        Coefficient of the second polynomial.\n",
    "\n",
    "    Returns\n",
    "    -------\n",
    "    torch.Tensor\n",
    "        The computed loss value.\n",
    "    \"\"\"\n",
    "    a.requires_grad = True\n",
    "    b.requires_grad = True\n",
    "\n",
    "    # Compute loss using squared distance function\n",
    "    delta = torch.zeros(2*len(a)-1, device=device)\n",
    "    delta[len(a)-1] = 1\n",
    "    loss = torch.norm(FFTConvolve(\"full\").forward(a, torch.flip(a, dims=[0])) + FFTConvolve(\"full\").forward(b, torch.flip(b, dims=[0])) - delta)**2\n",
    "    return loss\n",
    "\n",
    "\n",
    "# Set up optimizer\n",
    "N = 32  # degree of polynomial\n",
    "initial_a = torch.randn(N, device=device, requires_grad=True)\n",
    "initial_b = torch.randn(N, device=device, requires_grad=True)\n",
    "initial_a = (initial_a / torch.norm(initial_a)).clone().detach().requires_grad_(True)\n",
    "initial_b = (initial_b / torch.norm(initial_b)).clone().detach().requires_grad_(True)\n",
    "optimizer = torch.optim.LBFGS([initial_a, initial_b], max_iter=1000, line_search_fn=\"strong_wolfe\", tolerance_grad=1e-10)\n",
    "\n",
    "\n",
    "def closure():\n",
    "    \"\"\"\n",
    "    Closure function for the optimizer.\n",
    "\n",
    "    This function zeroes the gradients, computes the loss using the objective_torch\n",
    "    function, and performs backpropagation to compute the gradients.\n",
    "\n",
    "    Returns\n",
    "    -------\n",
    "    torch.Tensor\n",
    "        The computed loss value.\n",
    "    \"\"\"\n",
    "    optimizer.zero_grad()\n",
    "    loss = objective_torch(initial_a, initial_b)\n",
    "    loss.backward()\n",
    "    return loss\n",
    "\n",
    "\n",
    "# Perform the optimization step using the closure function and record the time\n",
    "t0 = time.time()\n",
    "optimizer.step(closure)\n",
    "t1 = time.time()\n",
    "total = t1 - t0\n",
    "\n",
    "print(f'N: {N}')\n",
    "print(f'Time: {total}')\n",
    "print(f'Final: {closure().item()}')\n",
    "print(f\"# Iterations: {optimizer.state[optimizer._params[0]]['n_iter']}\")\n",
    "print(\"-----------------------------------------------------\")"
   ]
  },
  {
   "cell_type": "code",
   "execution_count": 37,
   "id": "cd6ec281",
   "metadata": {},
   "outputs": [],
   "source": [
    "new_a = optimizer._params[0].detach().cpu().numpy()\n",
    "new_b = optimizer._params[1].detach().cpu().numpy()"
   ]
  },
  {
   "cell_type": "code",
   "execution_count": 38,
   "id": "1f2e137c",
   "metadata": {},
   "outputs": [
    {
     "data": {
      "image/png": "[encoded data removed]",
      "text/plain": [
       "<Figure size 640x480 with 1 Axes>"
      ]
     },
     "metadata": {},
     "output_type": "display_data"
    }
   ],
   "source": [
    "coefs_constraint_new = fftconvolve(new_a, np.flip(np.conj(new_a)), mode='full') + fftconvolve(new_b, np.flip(np.conj(new_b)), mode='full')\n",
    "xvals = np.linspace(-1, 1, len(coefs_constraint_new))\n",
    "plt.plot(xvals, np.real(coefs_constraint_new))\n",
    "plt.yscale(\"log\")\n",
    "plt.show()"
   ]
  },
  {
   "cell_type": "code",
   "execution_count": 39,
   "id": "f87cc57e",
   "metadata": {},
   "outputs": [
    {
     "data": {
      "text/plain": [
       "8.73766839504242e-06"
      ]
     },
     "execution_count": 39,
     "metadata": {},
     "output_type": "execute_result"
    }
   ],
   "source": [
    "constraint_ideal = np.zeros(len(coefs_constraint_new))\n",
    "constraint_ideal[int(len(constraint_ideal)/2)] = 1\n",
    "max(abs(coefs_constraint_new - constraint_ideal))"
   ]
  },
  {
   "cell_type": "code",
   "execution_count": 11,
   "id": "83a1e9bf",
   "metadata": {},
   "outputs": [
    {
     "data": {
      "text/plain": [
       "32"
      ]
     },
     "execution_count": 11,
     "metadata": {},
     "output_type": "execute_result"
    }
   ],
   "source": [
    "len(new_a)"
   ]
  },
  {
   "cell_type": "code",
   "execution_count": null,
   "id": "95f29a32",
   "metadata": {},
   "outputs": [
    {
     "data": {
      "text/plain": [
       "63"
      ]
     },
     "execution_count": 10,
     "metadata": {},
     "output_type": "execute_result"
    }
   ],
   "source": [
    "len(coefs_constraint_new)"
   ]
  },
  {
   "cell_type": "code",
   "execution_count": 15,
   "id": "c0853ed7",
   "metadata": {},
   "outputs": [
    {
     "data": {
      "text/plain": [
       "2.2121705e-05"
      ]
     },
     "execution_count": 15,
     "metadata": {},
     "output_type": "execute_result"
    }
   ],
   "source": [
    "coefs_constraint_no1 = np.append(coefs_constraint_new[:len(new_a)-1], coefs_constraint_new[len(new_a):])\n",
    "coefs_constraint_mid = coefs_constraint_new[len(new_a)-1]\n",
    "max(max(coefs_constraint_no1), abs(1-coefs_constraint_mid))"
   ]
  },
  {
   "cell_type": "code",
   "execution_count": 46,
   "id": "dd55fb09",
   "metadata": {},
   "outputs": [],
   "source": [
    "def get_error_in_opt(N, strong_wolfe=True):\n",
    "    def objective_torch(a, b):\n",
    "        \"\"\"\n",
    "        Computes the loss for the optimization problem.\n",
    "\n",
    "        This function calculates the loss as the squared norm of the difference\n",
    "        between the sum of convolutions of two polynomials (a and b) with their\n",
    "        flipped versions and a delta function centered at the middle index.\n",
    "\n",
    "        Parameters\n",
    "        ----------\n",
    "        a : torch.Tensor\n",
    "            Coefficient of the first polynomial.\n",
    "        b : torch.Tensor\n",
    "            Coefficient of the second polynomial.\n",
    "\n",
    "        Returns\n",
    "        -------\n",
    "        torch.Tensor\n",
    "            The computed loss value.\n",
    "        \"\"\"\n",
    "        a.requires_grad = True\n",
    "        b.requires_grad = True\n",
    "\n",
    "        # Compute loss using squared distance function\n",
    "        delta = torch.zeros(2*len(a)-1, device=device)\n",
    "        delta[len(a)-1] = 1\n",
    "        loss = torch.norm(FFTConvolve(\"full\").forward(a, torch.flip(a, dims=[0])) + FFTConvolve(\"full\").forward(b, torch.flip(b, dims=[0])) - delta)**2\n",
    "        return loss\n",
    "\n",
    "    # Set up optimizer\n",
    "    initial_a = torch.randn(N, device=device, requires_grad=True)\n",
    "    initial_b = torch.randn(N, device=device, requires_grad=True)\n",
    "    initial_a = (initial_a / torch.norm(initial_a)).clone().detach().requires_grad_(True)\n",
    "    initial_b = (initial_b / torch.norm(initial_b)).clone().detach().requires_grad_(True)\n",
    "    if strong_wolfe:\n",
    "        optimizer = torch.optim.LBFGS([initial_a, initial_b], max_iter=1000, line_search_fn=\"strong_wolfe\", tolerance_grad=1e-10)\n",
    "    else:\n",
    "        optimizer = torch.optim.LBFGS([initial_a, initial_b], max_iter=1000, tolerance_grad=1e-10)\n",
    "\n",
    "    def closure():\n",
    "        \"\"\"\n",
    "        Closure function for the optimizer.\n",
    "\n",
    "        This function zeroes the gradients, computes the loss using the objective_torch\n",
    "        function, and performs backpropagation to compute the gradients.\n",
    "\n",
    "        Returns\n",
    "        -------\n",
    "        torch.Tensor\n",
    "            The computed loss value.\n",
    "        \"\"\"\n",
    "        optimizer.zero_grad()\n",
    "        loss = objective_torch(initial_a, initial_b)\n",
    "        loss.backward()\n",
    "        return loss\n",
    "\n",
    "    # do optimization and get error\n",
    "    optimizer.step(closure)\n",
    "    new_a = optimizer._params[0].detach().cpu().numpy()\n",
    "    new_b = optimizer._params[1].detach().cpu().numpy()\n",
    "    coefs_constraint_new = fftconvolve(new_a, np.flip(np.conj(new_a)), mode='full') + fftconvolve(new_b, np.flip(np.conj(new_b)), mode='full')\n",
    "    constraint_ideal = np.zeros(len(coefs_constraint_new))\n",
    "    constraint_ideal[int(len(constraint_ideal)/2)] = 1\n",
    "    return max(abs(coefs_constraint_new - constraint_ideal))"
   ]
  },
  {
   "cell_type": "code",
   "execution_count": 48,
   "id": "926cbb43",
   "metadata": {},
   "outputs": [
    {
     "data": {
      "text/plain": [
       "0.0002536773681640625"
      ]
     },
     "execution_count": 48,
     "metadata": {},
     "output_type": "execute_result"
    }
   ],
   "source": [
    "get_error_in_opt(32, strong_wolfe=False)"
   ]
  }
 ],
 "metadata": {
  "kernelspec": {
   "display_name": "qspy-py311",
   "language": "python",
   "name": "python3"
  },
  "language_info": {
   "codemirror_mode": {
    "name": "ipython",
    "version": 3
   },
   "file_extension": ".py",
   "mimetype": "text/x-python",
   "name": "python",
   "nbconvert_exporter": "python",
   "pygments_lexer": "ipython3",
   "version": "3.11.13"
  }
 },
 "nbformat": 4,
 "nbformat_minor": 5
}
